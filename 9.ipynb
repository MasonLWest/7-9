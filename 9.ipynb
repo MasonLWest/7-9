{
 "cells": [
  {
   "cell_type": "code",
   "execution_count": null,
   "metadata": {},
   "outputs": [],
   "source": [
    "def good():\n",
    "    return ['Harry', 'Ron', 'Hermione']\n",
    "\n",
    "def get_odds():\n",
    "    for num in range(1, 10, 2):\n",
    "        yield num\n",
    "\n",
    "def test(func):\n",
    "    def wrapper(*args, **kwargs):\n",
    "        print('start')\n",
    "        result = func(*args, **kwargs)\n",
    "        print('end')\n",
    "        return result\n",
    "    return wrapper\n",
    "\n",
    "class OopsException(Exception):\n",
    "    pass\n",
    "\n",
    "@test\n",
    "def my_function():\n",
    "    print('Hello, world!')\n",
    "\n",
    "try:\n",
    "    raise OopsException()\n",
    "except OopsException:\n",
    "    print('Caught an oops')\n",
    "\n",
    "for i, num in enumerate(get_odds()):\n",
    "    if i == 2:\n",
    "        print(num)\n",
    "        break\n",
    "\n",
    "print(good())\n",
    "my_function()\n"
   ]
  }
 ],
 "metadata": {
  "language_info": {
   "name": "python"
  },
  "orig_nbformat": 4
 },
 "nbformat": 4,
 "nbformat_minor": 2
}
